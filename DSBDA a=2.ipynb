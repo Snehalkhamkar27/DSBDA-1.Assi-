{
 "cells": [
  {
   "cell_type": "code",
   "execution_count": null,
   "metadata": {
    "id": "43_Cl-LuYzs1"
   },
   "outputs": [],
   "source": [
    "import pandas as pd"
   ]
  },
  {
   "cell_type": "code",
   "execution_count": null,
   "metadata": {
    "id": "oOhg26y_PfmE"
   },
   "outputs": [],
   "source": [
    "df=pd.read_csv('C:/Users/dell/Downloads/Untitled spreadsheet - Sheet1.csv')"
   ]
  },
  {
   "cell_type": "code",
   "execution_count": null,
   "metadata": {
    "id": "ndnVFkSAiPNt"
   },
   "outputs": [],
   "source": [
    "df1=df\n",
    "df2=df1\n",
    "df3=df\n",
    "df4=df"
   ]
  },
  {
   "cell_type": "code",
   "execution_count": null,
   "metadata": {
    "colab": {
     "base_uri": "https://localhost:8080/",
     "height": 959
    },
    "id": "MpOnyURkiZPG",
    "outputId": "dfdb4c49-044c-407e-d84c-972740f477f2"
   },
   "outputs": [],
   "source": [
    "df"
   ]
  },
  {
   "cell_type": "code",
   "execution_count": null,
   "metadata": {
    "colab": {
     "base_uri": "https://localhost:8080/",
     "height": 959
    },
    "id": "NYbd7f3SidU9",
    "outputId": "0faa5159-abe1-4bec-85ff-ce51539bcf2b"
   },
   "outputs": [],
   "source": [
    "df.isnull()"
   ]
  },
  {
   "cell_type": "code",
   "execution_count": null,
   "metadata": {
    "colab": {
     "base_uri": "https://localhost:8080/"
    },
    "id": "hbbIo6KqihyQ",
    "outputId": "f857d5d7-6846-4375-8906-2a55fdc57686"
   },
   "outputs": [],
   "source": [
    "df.isnull().sum()"
   ]
  },
  {
   "cell_type": "code",
   "execution_count": null,
   "metadata": {
    "colab": {
     "base_uri": "https://localhost:8080/"
    },
    "id": "TGMzZnXuipVM",
    "outputId": "732e0e02-e849-45a4-8542-afc40b818fa3"
   },
   "outputs": [],
   "source": [
    "df.columns"
   ]
  },
  {
   "cell_type": "code",
   "execution_count": null,
   "metadata": {
    "colab": {
     "base_uri": "https://localhost:8080/"
    },
    "id": "54UbXLMBXL_F",
    "outputId": "f166686d-4cee-4776-d7c8-221b8e4bb9c0"
   },
   "outputs": [],
   "source": [
    "df.isnull().sum()"
   ]
  },
  {
   "cell_type": "code",
   "execution_count": null,
   "metadata": {
    "colab": {
     "base_uri": "https://localhost:8080/",
     "height": 300
    },
    "id": "VS-M_fNUXVfN",
    "outputId": "40e4d4d7-8a56-4173-be6b-274a14eaa965"
   },
   "outputs": [],
   "source": [
    "df.describe()"
   ]
  },
  {
   "cell_type": "code",
   "execution_count": null,
   "metadata": {
    "colab": {
     "base_uri": "https://localhost:8080/"
    },
    "id": "en8oY6-gXlAF",
    "outputId": "821e1c98-6dcf-436a-a3e2-988895b36b21"
   },
   "outputs": [],
   "source": [
    "df['reading_score']"
   ]
  },
  {
   "cell_type": "code",
   "execution_count": null,
   "metadata": {
    "colab": {
     "base_uri": "https://localhost:8080/"
    },
    "id": "UFPfog9oZA41",
    "outputId": "e1aee0ba-c33f-4c2d-900a-4293654ad2bb"
   },
   "outputs": [],
   "source": [
    "df[df['reading_score'].isnull()].index.tolist()"
   ]
  },
  {
   "cell_type": "code",
   "execution_count": null,
   "metadata": {
    "id": "SMrdHb_rZ2X-"
   },
   "outputs": [],
   "source": [
    "df['reading_score']=df['reading_score'].fillna(60)"
   ]
  },
  {
   "cell_type": "code",
   "execution_count": null,
   "metadata": {
    "colab": {
     "base_uri": "https://localhost:8080/"
    },
    "id": "vQaySj5QaT5N",
    "outputId": "8f0d5a6a-c4ca-44f9-8f3c-37093acff626"
   },
   "outputs": [],
   "source": [
    "df['reading_score']"
   ]
  },
  {
   "cell_type": "code",
   "execution_count": null,
   "metadata": {
    "colab": {
     "base_uri": "https://localhost:8080/"
    },
    "id": "Ycd05drVacdO",
    "outputId": "698a9c52-be69-4de8-b4c6-2ea8fa96a02a"
   },
   "outputs": [],
   "source": [
    "df['reading_score'].notnull().sum()"
   ]
  },
  {
   "cell_type": "code",
   "execution_count": null,
   "metadata": {
    "colab": {
     "base_uri": "https://localhost:8080/"
    },
    "id": "n9EEF8Cxap_N",
    "outputId": "2b539a3a-eaa0-4b28-82c9-a81475ab2441"
   },
   "outputs": [],
   "source": [
    "df[df['math_score'].isnull()].index.tolist()"
   ]
  },
  {
   "cell_type": "code",
   "execution_count": null,
   "metadata": {
    "id": "00rFuf_IeYCJ"
   },
   "outputs": [],
   "source": [
    "df['math_score']=df['math_score'].fillna(df['math_score'].mean())"
   ]
  },
  {
   "cell_type": "code",
   "execution_count": null,
   "metadata": {
    "colab": {
     "base_uri": "https://localhost:8080/"
    },
    "id": "aDa_JeNoe6lD",
    "outputId": "fc5ef661-08b1-4a8f-a338-28e93d3b64ac"
   },
   "outputs": [],
   "source": [
    "df['math_score'].isnull().sum()"
   ]
  },
  {
   "cell_type": "code",
   "execution_count": null,
   "metadata": {
    "colab": {
     "base_uri": "https://localhost:8080/"
    },
    "id": "wKAr-QPAfOT9",
    "outputId": "5586c0db-9969-46a5-a71a-c203477d301a"
   },
   "outputs": [],
   "source": [
    "df.isnull().sum()"
   ]
  },
  {
   "cell_type": "code",
   "execution_count": null,
   "metadata": {
    "colab": {
     "base_uri": "https://localhost:8080/"
    },
    "id": "YSF2mxVXfYpE",
    "outputId": "8febd792-ed14-4bf6-adad-fdd7cb71f536"
   },
   "outputs": [],
   "source": [
    "df[df['writing_score'].isnull()].index.tolist()"
   ]
  },
  {
   "cell_type": "code",
   "execution_count": null,
   "metadata": {
    "id": "ZIFA4PNsfwvG"
   },
   "outputs": [],
   "source": [
    "df['writing_score']=df['writing_score'].fillna(df['writing_score'].median())"
   ]
  },
  {
   "cell_type": "code",
   "execution_count": null,
   "metadata": {
    "colab": {
     "base_uri": "https://localhost:8080/"
    },
    "id": "25MBDj4dgKtF",
    "outputId": "bc6dbbd6-2298-430d-b8a9-dc478dc570c4"
   },
   "outputs": [],
   "source": [
    "df['writing_score'].isnull().sum()"
   ]
  },
  {
   "cell_type": "code",
   "execution_count": null,
   "metadata": {
    "colab": {
     "base_uri": "https://localhost:8080/",
     "height": 206
    },
    "id": "HvEezYoRgd2s",
    "outputId": "798f45a7-d801-404f-d4b0-b9fc7754f019"
   },
   "outputs": [],
   "source": [
    "df2.head()"
   ]
  },
  {
   "cell_type": "code",
   "execution_count": null,
   "metadata": {
    "id": "0JwovurGgiyM"
   },
   "outputs": [],
   "source": [
    "import numpy as np"
   ]
  },
  {
   "cell_type": "code",
   "execution_count": null,
   "metadata": {
    "colab": {
     "base_uri": "https://localhost:8080/"
    },
    "id": "v7_-_VVognmU",
    "outputId": "5101cabf-e5c1-4bc8-fc63-a4de304dcf24"
   },
   "outputs": [],
   "source": [
    "df.isnull().sum()"
   ]
  },
  {
   "cell_type": "code",
   "execution_count": null,
   "metadata": {
    "colab": {
     "base_uri": "https://localhost:8080/"
    },
    "id": "421MiO0mhHvD",
    "outputId": "5eaf934b-4cbd-42df-8b44-ab996866c651"
   },
   "outputs": [],
   "source": [
    "df[df['math_score'].isnull()].index.tolist()"
   ]
  },
  {
   "cell_type": "code",
   "execution_count": null,
   "metadata": {
    "colab": {
     "base_uri": "https://localhost:8080/"
    },
    "id": "QdNEmcVWSoHt",
    "outputId": "4546cca7-9752-4732-8bf3-bf694a3a78d1"
   },
   "outputs": [],
   "source": [
    "df[df['reading_score'].isnull()].index.tolist()"
   ]
  },
  {
   "cell_type": "code",
   "execution_count": null,
   "metadata": {
    "colab": {
     "base_uri": "https://localhost:8080/",
     "height": 959
    },
    "id": "wTIb6GeghcLt",
    "outputId": "12513e5f-7530-465d-fb9e-866f852d22b3"
   },
   "outputs": [],
   "source": [
    "df.replace(to_replace=np.nan,value=80)"
   ]
  },
  {
   "cell_type": "code",
   "execution_count": null,
   "metadata": {
    "colab": {
     "base_uri": "https://localhost:8080/"
    },
    "id": "Cz6om8pWhtIb",
    "outputId": "c4cbc99d-a128-4e66-d99f-963750287dfd"
   },
   "outputs": [],
   "source": [
    "df2.isnull().sum()"
   ]
  },
  {
   "cell_type": "markdown",
   "metadata": {
    "id": "bvRLn6yYNYNz"
   },
   "source": [
    "###Deleting null values using dropna() metthod"
   ]
  },
  {
   "cell_type": "code",
   "execution_count": null,
   "metadata": {
    "colab": {
     "base_uri": "https://localhost:8080/"
    },
    "id": "m0KQsiAsN_nk",
    "outputId": "2423ae29-7107-4ae4-ca92-5bb47c5c16c7"
   },
   "outputs": [],
   "source": [
    "df3.isnull().sum()"
   ]
  },
  {
   "cell_type": "code",
   "execution_count": null,
   "metadata": {
    "colab": {
     "base_uri": "https://localhost:8080/"
    },
    "id": "rO31gewcORVY",
    "outputId": "7a58994f-bef8-44b3-cb72-8dbf58d636c9"
   },
   "outputs": [],
   "source": [
    "df3[df3['math_score'].isnull()].index.tolist()"
   ]
  },
  {
   "cell_type": "code",
   "execution_count": null,
   "metadata": {
    "colab": {
     "base_uri": "https://localhost:8080/"
    },
    "id": "kMyJ6DaIOpiH",
    "outputId": "b6f9eb0b-ee8f-45a7-e9d0-fd43edf6c40b"
   },
   "outputs": [],
   "source": [
    "df3[df3['reading_score'].isnull()].index.tolist()"
   ]
  },
  {
   "cell_type": "code",
   "execution_count": null,
   "metadata": {
    "colab": {
     "base_uri": "https://localhost:8080/",
     "height": 896
    },
    "id": "L6_k3Kv_O3Gt",
    "outputId": "f5895f95-d1a4-4aa1-ddcb-5eec58e8bb14"
   },
   "outputs": [],
   "source": [
    "#To drop rows with at least 1 null value\n",
    "df3.dropna()"
   ]
  },
  {
   "cell_type": "code",
   "execution_count": null,
   "metadata": {
    "colab": {
     "base_uri": "https://localhost:8080/",
     "height": 959
    },
    "id": "AvVeiHkXPoqF",
    "outputId": "8205f89d-9f1b-4df1-b080-3b0608724eee"
   },
   "outputs": [],
   "source": [
    "#To Drop columns with at least 1 null value\n",
    "df4.dropna(axis=1)"
   ]
  },
  {
   "cell_type": "markdown",
   "metadata": {
    "id": "QU833ispRwc1"
   },
   "source": []
  },
  {
   "cell_type": "markdown",
   "metadata": {
    "id": "Q9vHA0tnRwif"
   },
   "source": [
    "## **Handling** **Outliers**\n",
    "### **1.Detecting outliers using Boxplot:**"
   ]
  },
  {
   "cell_type": "code",
   "execution_count": null,
   "metadata": {
    "colab": {
     "base_uri": "https://localhost:8080/"
    },
    "id": "efD7F45aSafa",
    "outputId": "5d39e070-aecc-4833-e392-0af77b8db5b4"
   },
   "outputs": [],
   "source": [
    "df"
   ]
  },
  {
   "cell_type": "code",
   "execution_count": null,
   "metadata": {},
   "outputs": [],
   "source": [
    "df.columns"
   ]
  },
  {
   "cell_type": "code",
   "execution_count": null,
   "metadata": {
    "id": "BWtWLZrlSeZP"
   },
   "outputs": [],
   "source": [
    "col = ['math_score','reading_score', 'writing_score', 'placement_score']\n",
    "df.boxplot(col)"
   ]
  },
  {
   "cell_type": "code",
   "execution_count": null,
   "metadata": {
    "id": "k-jVwGNXV8A1"
   },
   "outputs": [],
   "source": [
    "print(np.where(df['math_score'] <25))"
   ]
  },
  {
   "cell_type": "code",
   "execution_count": null,
   "metadata": {
    "colab": {
     "base_uri": "https://localhost:8080/",
     "height": 445
    },
    "id": "cPi7IQZ0WK2c",
    "outputId": "c2be4226-1538-4bfe-a443-11ec187bbbae"
   },
   "outputs": [],
   "source": [
    "print(np.where(df['reading_score'] <25))"
   ]
  },
  {
   "cell_type": "code",
   "execution_count": null,
   "metadata": {
    "colab": {
     "base_uri": "https://localhost:8080/",
     "height": 1000
    },
    "id": "Px6M8b_MWd5g",
    "outputId": "00ada875-219e-4155-a24b-5a4c77eb01cb"
   },
   "outputs": [],
   "source": [
    "print(np.where(df['writing_score'] <25))"
   ]
  },
  {
   "cell_type": "markdown",
   "metadata": {},
   "source": [
    "# Detecting outliers using scatterplot:"
   ]
  },
  {
   "cell_type": "code",
   "execution_count": null,
   "metadata": {},
   "outputs": [],
   "source": [
    "import pandas as pd"
   ]
  },
  {
   "cell_type": "code",
   "execution_count": null,
   "metadata": {},
   "outputs": [],
   "source": [
    "import numpy as np"
   ]
  },
  {
   "cell_type": "code",
   "execution_count": null,
   "metadata": {},
   "outputs": [],
   "source": [
    "import matplotlib.pyplot as plt"
   ]
  },
  {
   "cell_type": "code",
   "execution_count": null,
   "metadata": {},
   "outputs": [],
   "source": [
    "df"
   ]
  },
  {
   "cell_type": "code",
   "execution_count": null,
   "metadata": {},
   "outputs": [],
   "source": [
    "#ax = plt.subplots(figsize = (18,10))\n",
    "plt.scatter(df['math_score'], df['placement offer count'])\n",
    "plt.show()"
   ]
  },
  {
   "cell_type": "code",
   "execution_count": null,
   "metadata": {
    "colab": {
     "base_uri": "https://localhost:8080/"
    },
    "id": "ayq46kZHbunV",
    "outputId": "e24d293e-0f28-4385-cf21-bc929d75504c"
   },
   "outputs": [],
   "source": [
    "df.columns"
   ]
  },
  {
   "cell_type": "code",
   "execution_count": null,
   "metadata": {},
   "outputs": [],
   "source": [
    "plt.scatter(df['placement offer count'],df['placement offer count'],c='yellow',linewidths = 2,marker = '.',edgecolor ='red' ,s = 50)\n",
    "plt.xlabel=(\"placement score\")\n",
    "plt.ylabel=(\"placement offer count\")\n",
    "plt.show()"
   ]
  },
  {
   "cell_type": "code",
   "execution_count": null,
   "metadata": {
    "colab": {
     "base_uri": "https://localhost:8080/",
     "height": 265
    },
    "id": "kSZ5uTQSfDSV",
    "outputId": "9c04ca02-5b07-4fea-f72d-0ec48893145d"
   },
   "outputs": [],
   "source": [
    "plt.scatter(x=df['math_score'],y=df['placement_score'],c='blue',linewidths = 2,marker ='^',edgecolor = 'green',s = 80)\n",
    "plt.show()"
   ]
  },
  {
   "cell_type": "code",
   "execution_count": null,
   "metadata": {},
   "outputs": [],
   "source": [
    "print(np.where((df['placement_score']<50) & (df['placement offer count']>1)))"
   ]
  },
  {
   "cell_type": "code",
   "execution_count": null,
   "metadata": {},
   "outputs": [],
   "source": [
    "print(np.where((df['placement_score']<50) & (df['placement offer count']>3)))"
   ]
  },
  {
   "cell_type": "markdown",
   "metadata": {
    "id": "dzIc5hibm4Mb"
   },
   "source": [
    "**3**.Detecting outliers using Z-SCORE: "
   ]
  },
  {
   "cell_type": "code",
   "execution_count": null,
   "metadata": {
    "id": "g2yemN6ga4DD"
   },
   "outputs": [],
   "source": [
    "from scipy import stats"
   ]
  },
  {
   "cell_type": "code",
   "execution_count": null,
   "metadata": {
    "colab": {
     "base_uri": "https://localhost:8080/"
    },
    "id": "IK-bB8NLbl37",
    "outputId": "8329f37b-125b-4ba7-e2a2-3c7b90f42eaf"
   },
   "outputs": [],
   "source": [
    "z = np.abs(stats.zscore(df['math_score']))\n",
    "z"
   ]
  },
  {
   "cell_type": "code",
   "execution_count": null,
   "metadata": {
    "colab": {
     "base_uri": "https://localhost:8080/"
    },
    "id": "aXrW6T-tbsCh",
    "outputId": "23bedf74-0925-44b9-d741-34b1f5872fe1"
   },
   "outputs": [],
   "source": [
    "threshold =1.8\n",
    "sample_outliers = np.where(z >threshold)\n",
    "sample_outliers"
   ]
  },
  {
   "cell_type": "code",
   "execution_count": null,
   "metadata": {
    "colab": {
     "base_uri": "https://localhost:8080/"
    },
    "id": "4D-cc01nb8R4",
    "outputId": "e22a4df7-a99a-46e3-adf0-7ae2307a3d80"
   },
   "outputs": [],
   "source": [
    "df['math_score']"
   ]
  },
  {
   "cell_type": "markdown",
   "metadata": {
    "id": "oakzkF31cal3"
   },
   "source": [
    "## **Detecting outliers using Inter Quantile Range(IQR):**\n",
    "IQR = Quartile3 - Quartile1\n",
    "To define the outlier base value is defined above and below datasets normal range namely Upper and Lower bounds, define the\n",
    "upper and the lower bound (1.5*IQR value is considered) :\n",
    "\n",
    "upper = Q3 +1.5*IQR\n",
    "\n",
    "lower = Q1 -1.5*IQR"
   ]
  },
  {
   "cell_type": "code",
   "execution_count": null,
   "metadata": {
    "colab": {
     "base_uri": "https://localhost:8080/"
    },
    "id": "sh-Fzaqke8we",
    "outputId": "403c6bf6-929b-40bb-fcbb-30abfbfc1ce1"
   },
   "outputs": [],
   "source": [
    "sorted_rscore= sorted(df['reading_score'])\n",
    "sorted_rscore"
   ]
  },
  {
   "cell_type": "code",
   "execution_count": null,
   "metadata": {
    "colab": {
     "base_uri": "https://localhost:8080/"
    },
    "id": "okt5wNKwfXPG",
    "outputId": "4b1a22be-2ea7-4d27-ff95-1f45241fd207"
   },
   "outputs": [],
   "source": [
    "# Calculate and print Quartile 1 and Quartile 3\n",
    "q1 = np.percentile(sorted_rscore, 25)\n",
    "q3 = np.percentile(sorted_rscore, 75)\n",
    "print(q1,q3)\n"
   ]
  },
  {
   "cell_type": "code",
   "execution_count": null,
   "metadata": {
    "colab": {
     "base_uri": "https://localhost:8080/"
    },
    "id": "qc5nO-Dff9Av",
    "outputId": "07c31604-8c68-434d-f229-e1f329025404"
   },
   "outputs": [],
   "source": [
    "IQR = q3-q1\n",
    "IQR"
   ]
  },
  {
   "cell_type": "code",
   "execution_count": null,
   "metadata": {
    "colab": {
     "base_uri": "https://localhost:8080/"
    },
    "id": "_Cx91iZZgPnP",
    "outputId": "05485273-7fb9-4d28-e200-18074b560e26"
   },
   "outputs": [],
   "source": [
    "lwr_bound = q1-(1.5*IQR)\n",
    "upr_bound = q3+(1.5*IQR)\n",
    "print(lwr_bound, upr_bound)"
   ]
  },
  {
   "cell_type": "code",
   "execution_count": null,
   "metadata": {
    "colab": {
     "base_uri": "https://localhost:8080/"
    },
    "id": "mxaBDPo4hLxW",
    "outputId": "9a15ae72-390c-4c15-d78c-d3d64b1f40ed"
   },
   "outputs": [],
   "source": [
    "#print outliers\n",
    "r_outliers = []\n",
    "for i in sorted_rscore:\n",
    "  if (i<lwr_bound or i>upr_bound):\n",
    "    r_outliers.append(i)\n",
    "    print(r_outliers)"
   ]
  },
  {
   "cell_type": "code",
   "execution_count": null,
   "metadata": {
    "colab": {
     "base_uri": "https://localhost:8080/"
    },
    "id": "bW39y4iFl6fH",
    "outputId": "3aebfb2a-2b79-4882-ae26-7dc18d4de176"
   },
   "outputs": [],
   "source": [
    "df['reading_score']"
   ]
  },
  {
   "cell_type": "markdown",
   "metadata": {
    "id": "ZdRdLQ9ymHYw"
   },
   "source": [
    "# # Handling of Outliers:"
   ]
  },
  {
   "cell_type": "markdown",
   "metadata": {
    "id": "BRkSgUulmsB_"
   },
   "source": [
    "## **1.Trimming\\removing the outliers:**"
   ]
  },
  {
   "cell_type": "code",
   "execution_count": null,
   "metadata": {
    "id": "QNBobZN3mEbP"
   },
   "outputs": [],
   "source": [
    "new_df=df.copy()\n",
    "for i in sample_outliers:\n",
    "  new_df.drop(i,inplace=True)\n",
    "  new_df"
   ]
  },
  {
   "cell_type": "markdown",
   "metadata": {
    "id": "ek9M_LQ7nSgf"
   },
   "source": [
    "## **2.Quantile based flooring and capping**"
   ]
  },
  {
   "cell_type": "code",
   "execution_count": null,
   "metadata": {
    "id": "CbXdzEMfnQoo"
   },
   "outputs": [],
   "source": [
    "df_stud=df.copy()"
   ]
  },
  {
   "cell_type": "code",
   "execution_count": null,
   "metadata": {
    "colab": {
     "base_uri": "https://localhost:8080/",
     "height": 959
    },
    "id": "1afv9rpSnpsf",
    "outputId": "f32fb2d4-ec13-4b7b-ed5b-b1805bbe7e11"
   },
   "outputs": [],
   "source": [
    "df_stud"
   ]
  },
  {
   "cell_type": "code",
   "execution_count": null,
   "metadata": {
    "colab": {
     "base_uri": "https://localhost:8080/"
    },
    "id": "09OpGLDZnsw2",
    "outputId": "476e07e0-4b6e-4463-a467-173b732e0f9d"
   },
   "outputs": [],
   "source": [
    "print(df_stud['math_score'].quantile(0.10))\n",
    "print(df_stud['math_score'].quantile(0.90))"
   ]
  },
  {
   "cell_type": "code",
   "execution_count": null,
   "metadata": {
    "id": "zDBm-2c_oBPn"
   },
   "outputs": [],
   "source": [
    "df_stud1=df_stud.copy()\n",
    "a= np.where(df_stud['math_score']<62.0, 62.0,df_stud1['math_score'])\n",
    "b= np.where(df_stud['math_score']<79.1, 79.1,df_stud1['math_score'])"
   ]
  },
  {
   "cell_type": "code",
   "execution_count": null,
   "metadata": {
    "colab": {
     "base_uri": "https://localhost:8080/"
    },
    "id": "azzFufcRoxnf",
    "outputId": "6624728d-75e3-4030-fd30-3bba9001822a"
   },
   "outputs": [],
   "source": [
    "print(\"a=\",a)\n",
    "print(\"b=\",b)"
   ]
  },
  {
   "cell_type": "code",
   "execution_count": null,
   "metadata": {
    "colab": {
     "base_uri": "https://localhost:8080/",
     "height": 959
    },
    "id": "K32mvKkKpJdA",
    "outputId": "159cd936-1c56-4778-805f-4b43b193884d"
   },
   "outputs": [],
   "source": [
    "df_stud.insert(1,\"new_math<62\",a,True)\n",
    "df_stud.insert(1,\"new_math<79.1\",b,True)\n",
    "df_stud"
   ]
  },
  {
   "cell_type": "markdown",
   "metadata": {
    "id": "qnAhYOsnqF0H"
   },
   "source": [
    "## **Imputing median value**"
   ]
  },
  {
   "cell_type": "code",
   "execution_count": null,
   "metadata": {
    "colab": {
     "base_uri": "https://localhost:8080/",
     "height": 265
    },
    "id": "v_Jyyo4qqDFP",
    "outputId": "6b6c1289-b14d-42e0-91cd-3d38f32c8575"
   },
   "outputs": [],
   "source": [
    "#col = ['reading score']\n",
    "plt.boxplot(df['reading_score'])\n",
    "plt.show()"
   ]
  },
  {
   "cell_type": "code",
   "execution_count": null,
   "metadata": {
    "colab": {
     "base_uri": "https://localhost:8080/"
    },
    "id": "D-bliTgzufs3",
    "outputId": "06790868-4570-4866-a104-9816744abeaa"
   },
   "outputs": [],
   "source": [
    "median=np.median(sorted_rscore)\n",
    "median"
   ]
  },
  {
   "cell_type": "code",
   "execution_count": null,
   "metadata": {
    "colab": {
     "base_uri": "https://localhost:8080/",
     "height": 959
    },
    "id": "2tmiABf3uwvO",
    "outputId": "ffebffc0-20c7-4bea-ce98-2586968363d8"
   },
   "outputs": [],
   "source": [
    "new_df=df.copy()\n",
    "new_df2=new_df.copy()\n",
    "new_df"
   ]
  },
  {
   "cell_type": "code",
   "execution_count": null,
   "metadata": {
    "id": "d4pCIaORvEbH"
   },
   "outputs": [],
   "source": [
    "new_df['reading_score']= np.where(new_df['reading_score']>upr_bound,73.0,new_df['reading_score'])"
   ]
  },
  {
   "cell_type": "code",
   "execution_count": null,
   "metadata": {
    "id": "PUrhVQCavdPN"
   },
   "outputs": [],
   "source": [
    "new_df.insert(2,\"old_reading score\",new_df2['reading_score'],True)"
   ]
  },
  {
   "cell_type": "code",
   "execution_count": null,
   "metadata": {
    "colab": {
     "base_uri": "https://localhost:8080/",
     "height": 959
    },
    "id": "aEgr8_yXvtn2",
    "outputId": "63e5970d-5195-4d93-e12d-685360801c7b"
   },
   "outputs": [],
   "source": [
    "new_df"
   ]
  },
  {
   "cell_type": "code",
   "execution_count": null,
   "metadata": {
    "colab": {
     "base_uri": "https://localhost:8080/",
     "height": 265
    },
    "id": "XNMwt9DFvwPm",
    "outputId": "5495d23a-4ab2-4968-e75c-ed2d29999f30"
   },
   "outputs": [],
   "source": [
    "plt.boxplot(new_df['reading_score'])\n",
    "plt.show()"
   ]
  }
 ],
 "metadata": {
  "colab": {
   "provenance": []
  },
  "kernelspec": {
   "display_name": "Python 3 (ipykernel)",
   "language": "python",
   "name": "python3"
  },
  "language_info": {
   "codemirror_mode": {
    "name": "ipython",
    "version": 3
   },
   "file_extension": ".py",
   "mimetype": "text/x-python",
   "name": "python",
   "nbconvert_exporter": "python",
   "pygments_lexer": "ipython3",
   "version": "3.9.13"
  }
 },
 "nbformat": 4,
 "nbformat_minor": 1
}
